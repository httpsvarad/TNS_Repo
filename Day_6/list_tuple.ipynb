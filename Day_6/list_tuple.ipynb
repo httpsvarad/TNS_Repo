{
 "cells": [
  {
   "cell_type": "code",
   "execution_count": null,
   "id": "61cfa8ef",
   "metadata": {},
   "outputs": [
    {
     "name": "stdout",
     "output_type": "stream",
     "text": [
      "Original list : [1, 2, 3, 4, 5, 6, 7, 8, 9, 10]\n",
      "List after doubling even elems : [1, 4, 3, 8, 5, 12, 7, 16, 9, 20]\n"
     ]
    }
   ],
   "source": [
    "# 04 Aug 2025\n",
    "# Write a Python function that takes a list of integers and returns a new list with all the even numbers doubled.\n",
    "def double_even_elem(my_list) :\n",
    "\n",
    "    new_list = []\n",
    "\n",
    "    for i in range(len(my_list)):\n",
    "        if my_list[i] % 2 == 0:\n",
    "            my_list[i] *= 2\n",
    "        new_list.append(my_list[i])\n",
    "    return new_list\n",
    "\n",
    "\n",
    "my_list = [1, 2, 3, 4, 5, 6, 7, 8, 9, 10]\n",
    "print(\"Original list :\", my_list)\n",
    "double_list = double_even_elem(my_list)\n",
    "print(\"List after doubling even elems :\", double_list)\n",
    "\n"
   ]
  },
  {
   "cell_type": "code",
   "execution_count": null,
   "id": "76264a03",
   "metadata": {},
   "outputs": [
    {
     "name": "stdout",
     "output_type": "stream",
     "text": [
      "Original list : ['Toyota', 'Honda', 'Ford', 'Chevrolet', 'Nissan', 'Chevrolet', 'Toyota']\n",
      "List after removing duplicates : ['Toyota', 'Honda', 'Ford', 'Chevrolet', 'Nissan']\n"
     ]
    }
   ],
   "source": [
    "# Given a list of strings, write code to remove all duplicate elements and print the unique list.\n",
    "\n",
    "# Solution 1: Using set\n",
    "# def remove_duplicates(lst) : return list(set(lst))\n",
    "\n",
    "# Solution 2: Using a loop\n",
    "def remove_duplicates(lst) :\n",
    "\n",
    "    unique_list = []\n",
    "    isPresent = set()\n",
    "\n",
    "    for item in lst:\n",
    "        if item not in isPresent:\n",
    "            isPresent.add(item)\n",
    "            unique_list.append(item)\n",
    "    return unique_list\n",
    "\n",
    "cars = [\"Toyota\", \"Honda\", \"Ford\", \"Chevrolet\", \"Nissan\", \"Chevrolet\", \"Toyota\"]\n",
    "print(\"Original list :\", cars)\n",
    "unique_cars = remove_duplicates(cars)   \n",
    "print(\"List after removing duplicates :\", unique_cars)\n",
    "\n"
   ]
  },
  {
   "cell_type": "code",
   "execution_count": 24,
   "id": "5155222a",
   "metadata": {},
   "outputs": [
    {
     "name": "stdout",
     "output_type": "stream",
     "text": [
      "Sum of all values in tuple : 55\n"
     ]
    }
   ],
   "source": [
    "# Write a Python program that takes a tuple of numbers and returns the sum of all the elements.\n",
    "my_tuple = (1, 2, 3, 4, 5, 6, 7, 8, 9, 10)\n",
    "print(\"Sum of all values in tuple :\",sum(my_tuple))"
   ]
  },
  {
   "cell_type": "code",
   "execution_count": 25,
   "id": "8397425e",
   "metadata": {},
   "outputs": [
    {
     "name": "stdout",
     "output_type": "stream",
     "text": [
      "List from tuple : ['apple', 'banana', 'cherry', 'orange', 'grapes', 'mango']\n"
     ]
    }
   ],
   "source": [
    "# Given a tuple of strings, write code to convert it into a list and add a new string element to that list.\n",
    "string_tuple = (\"apple\", \"banana\", \"cherry\", \"orange\", \"grapes\")\n",
    "str_list = list(string_tuple)\n",
    "str_list.append(\"mango\")\n",
    "print(\"List from tuple :\",str_list)"
   ]
  },
  {
   "cell_type": "code",
   "execution_count": null,
   "id": "9b7106ca",
   "metadata": {},
   "outputs": [
    {
     "name": "stdout",
     "output_type": "stream",
     "text": [
      "7 is a prime number\n"
     ]
    }
   ],
   "source": [
    "# Write a Python function that checks if a given number is prime or not.\n",
    "import math\n",
    "num = int(input(\"Enter a number : \"))\n",
    "\n",
    "if num <= 1 :\n",
    "    print(num, \"is NOT a prime number\")\n",
    "\n",
    "for i in range(2, int(math.sqrt(int(num)))+1) :\n",
    "    if int(num) % i == 0 :\n",
    "        print(num, \"is NOT a prime number\" )\n",
    "        break\n",
    "    else :\n",
    "        print(num, \"is a prime number\")"
   ]
  },
  {
   "cell_type": "code",
   "execution_count": 38,
   "id": "cd6b522c",
   "metadata": {},
   "outputs": [
    {
     "name": "stdout",
     "output_type": "stream",
     "text": [
      "nohtyp\n"
     ]
    }
   ],
   "source": [
    "# Write a Python program that reads a string from the user and prints it in reverse.\n",
    "str = input(\"Enter a string : \")\n",
    "print(str[::-1])"
   ]
  }
 ],
 "metadata": {
  "kernelspec": {
   "display_name": "sklearn",
   "language": "python",
   "name": "sklearn"
  },
  "language_info": {
   "codemirror_mode": {
    "name": "ipython",
    "version": 3
   },
   "file_extension": ".py",
   "mimetype": "text/x-python",
   "name": "python",
   "nbconvert_exporter": "python",
   "pygments_lexer": "ipython3",
   "version": "3.10.15"
  }
 },
 "nbformat": 4,
 "nbformat_minor": 5
}
